{
 "cells": [
  {
   "cell_type": "code",
   "execution_count": 15,
   "metadata": {},
   "outputs": [],
   "source": [
    "import time\n",
    "import torch\n",
    "class Timer:\n",
    "    def __init__(self):\n",
    "        self.start()\n",
    "    \n",
    "    def start(self):\n",
    "        self.begin_time = time.time()\n",
    "\n",
    "    def end(self):\n",
    "        return time.time()-self.begin_time\n"
   ]
  },
  {
   "cell_type": "code",
   "execution_count": 16,
   "metadata": {},
   "outputs": [],
   "source": [
    "\n",
    "def get_time1(n):\n",
    "    x=torch.ones(n)\n",
    "    y=torch.ones(n)\n",
    "    timer=Timer()\n",
    "    for i in range(n):\n",
    "        z=x[i]+y[i]\n",
    "    return timer.end()"
   ]
  },
  {
   "cell_type": "code",
   "execution_count": 17,
   "metadata": {},
   "outputs": [],
   "source": [
    "def get_time2(n):\n",
    "    x=torch.ones(n)\n",
    "    y=torch.ones(n)\n",
    "    timer=Timer()\n",
    "    z=x+y\n",
    "    return timer.end()"
   ]
  },
  {
   "cell_type": "code",
   "execution_count": 18,
   "metadata": {},
   "outputs": [
    {
     "data": {
      "text/plain": [
       "4340.085365853659"
      ]
     },
     "execution_count": 18,
     "metadata": {},
     "output_type": "execute_result"
    }
   ],
   "source": [
    "get_time1(100000)/get_time2(100000)  # 速度相差极大"
   ]
  },
  {
   "cell_type": "code",
   "execution_count": null,
   "metadata": {},
   "outputs": [],
   "source": []
  }
 ],
 "metadata": {
  "interpreter": {
   "hash": "9879b1b0a7ba1bf80e461bf41470030409e0b97862c005b71b907169745b2839"
  },
  "kernelspec": {
   "display_name": "Python 3.9.7 64-bit ('base': conda)",
   "language": "python",
   "name": "python3"
  },
  "language_info": {
   "codemirror_mode": {
    "name": "ipython",
    "version": 3
   },
   "file_extension": ".py",
   "mimetype": "text/x-python",
   "name": "python",
   "nbconvert_exporter": "python",
   "pygments_lexer": "ipython3",
   "version": "3.9.7"
  },
  "orig_nbformat": 4
 },
 "nbformat": 4,
 "nbformat_minor": 2
}
