{
 "cells": [
  {
   "cell_type": "code",
   "execution_count": 11,
   "metadata": {},
   "outputs": [
    {
     "data": {
      "image/png": "[encoded data removed]",
      "text/plain": [
       "<Figure size 432x288 with 1 Axes>"
      ]
     },
     "metadata": {
      "needs_background": "light"
     },
     "output_type": "display_data"
    }
   ],
   "source": [
    "import pandas as pd\n",
    "import numpy as np \n",
    "import matplotlib.pyplot as plt\n",
    "data_train = pd.read_csv('/home/gyr/file/course/DL/DL-Notes/Data/train.csv')\n",
    "train_x = data_train['x']\n",
    "train_y = data_train['y']\n",
    "plt.scatter(train_x, train_y, s=0.3)\n",
    "plt.show()"
   ]
  },
  {
   "cell_type": "code",
   "execution_count": 15,
   "metadata": {},
   "outputs": [
    {
     "name": "stdout",
     "output_type": "stream",
     "text": [
      "2334747.2534988923\n"
     ]
    },
    {
     "ename": "UnboundLocalError",
     "evalue": "local variable 'a0' referenced before assignment",
     "output_type": "error",
     "traceback": [
      "\u001b[0;31m---------------------------------------------------------------------------\u001b[0m",
      "\u001b[0;31mUnboundLocalError\u001b[0m                         Traceback (most recent call last)",
      "\u001b[1;32m/home/gyr/file/course/DL/DL-Notes/Linear Regression.ipynb Cell 2'\u001b[0m in \u001b[0;36m<module>\u001b[0;34m\u001b[0m\n\u001b[1;32m     <a href='vscode-notebook-cell:/home/gyr/file/course/DL/DL-Notes/Linear%20Regression.ipynb#ch0000001?line=18'>19</a>\u001b[0m \t\u001b[39mbreak\u001b[39;00m\n\u001b[1;32m     <a href='vscode-notebook-cell:/home/gyr/file/course/DL/DL-Notes/Linear%20Regression.ipynb#ch0000001?line=19'>20</a>\u001b[0m \u001b[39mprint\u001b[39m(l)\n\u001b[0;32m---> <a href='vscode-notebook-cell:/home/gyr/file/course/DL/DL-Notes/Linear%20Regression.ipynb#ch0000001?line=20'>21</a>\u001b[0m refresh_data(y_)\n",
      "\u001b[1;32m/home/gyr/file/course/DL/DL-Notes/Linear Regression.ipynb Cell 2'\u001b[0m in \u001b[0;36mrefresh_data\u001b[0;34m(y_)\u001b[0m\n\u001b[1;32m     <a href='vscode-notebook-cell:/home/gyr/file/course/DL/DL-Notes/Linear%20Regression.ipynb#ch0000001?line=11'>12</a>\u001b[0m \u001b[39mdef\u001b[39;00m \u001b[39mrefresh_data\u001b[39m(y_):\n\u001b[0;32m---> <a href='vscode-notebook-cell:/home/gyr/file/course/DL/DL-Notes/Linear%20Regression.ipynb#ch0000001?line=12'>13</a>\u001b[0m \ta0 \u001b[39m=\u001b[39m a0\u001b[39m-\u001b[39mlr\u001b[39m*\u001b[39m\u001b[39m2\u001b[39m\u001b[39m/\u001b[39m\u001b[39mlen\u001b[39m(train_x)\u001b[39m*\u001b[39mnp\u001b[39m.\u001b[39msum(y_\u001b[39m-\u001b[39mtrain_y)\n",
      "\u001b[0;31mUnboundLocalError\u001b[0m: local variable 'a0' referenced before assignment"
     ]
    }
   ],
   "source": [
    "def get_loss(y1, y2):\n",
    "\treturn np.sum((y1-y2)**2)\n",
    "\n",
    "\n",
    "global a0 = 0\n",
    "a1 = 0\n",
    "lr = 0.1\n",
    "\n",
    "def forward_propagation(a_0, a_1, x):\n",
    "\treturn a_1*x + a_0\n",
    "\n",
    "def refresh_data(y_):\n",
    "\ta0 = a0-lr*2/len(train_x)*np.sum(y_-train_y)\n",
    "\n",
    "while(1):\n",
    "\ty_ = forward_propagation(a0, a1, train_x)\n",
    "\tl = get_loss(y_, train_y)\n",
    "\tif(l<1):\n",
    "\t\tbreak\n",
    "\tprint(l)\n",
    "\trefresh_data(y_)\n"
   ]
  },
  {
   "cell_type": "code",
   "execution_count": null,
   "metadata": {},
   "outputs": [],
   "source": []
  }
 ],
 "metadata": {
  "interpreter": {
   "hash": "31f2aee4e71d21fbe5cf8b01ff0e069b9275f58929596ceb00d14d90e3e16cd6"
  },
  "kernelspec": {
   "display_name": "Python 3.8.10 64-bit",
   "language": "python",
   "name": "python3"
  },
  "language_info": {
   "codemirror_mode": {
    "name": "ipython",
    "version": 3
   },
   "file_extension": ".py",
   "mimetype": "text/x-python",
   "name": "python",
   "nbconvert_exporter": "python",
   "pygments_lexer": "ipython3",
   "version": "3.8.10"
  },
  "orig_nbformat": 4
 },
 "nbformat": 4,
 "nbformat_minor": 2
}
